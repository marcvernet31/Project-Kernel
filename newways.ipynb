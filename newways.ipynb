{
 "cells": [
  {
   "cell_type": "code",
   "execution_count": 1,
   "metadata": {},
   "outputs": [],
   "source": [
    "from sklearn import svm\n",
    "from sklearn.model_selection import train_test_split\n",
    "from sklearn.model_selection import cross_val_score\n",
    "\n",
    "import numpy as np"
   ]
  },
  {
   "cell_type": "code",
   "execution_count": 2,
   "metadata": {},
   "outputs": [],
   "source": [
    "import kernels as kn\n",
    "from utils import k_fold_CV\n",
    "from utils import timed_k_fold_CV"
   ]
  },
  {
   "cell_type": "code",
   "execution_count": 3,
   "metadata": {},
   "outputs": [],
   "source": [
    "from data.datasets import CannabisGenotype2\n",
    "from data.datasets import CannabisGenotype"
   ]
  },
  {
   "cell_type": "code",
   "execution_count": 4,
   "metadata": {},
   "outputs": [],
   "source": [
    "gen = CannabisGenotype2()\n",
    "X, y = gen.generate()"
   ]
  },
  {
   "cell_type": "code",
   "execution_count": 5,
   "metadata": {},
   "outputs": [
    {
     "data": {
      "text/plain": [
       "(1324, 13, 2)"
      ]
     },
     "execution_count": 5,
     "metadata": {},
     "output_type": "execute_result"
    }
   ],
   "source": [
    "X.shape"
   ]
  },
  {
   "cell_type": "code",
   "execution_count": 6,
   "metadata": {},
   "outputs": [],
   "source": [
    "def my_kernel_all(X, Y):\n",
    "    x1, x2, x3 = X.shape\n",
    "    y1, y2, y3 = Y.shape\n",
    "    G = np.zeros((x1, y1))\n",
    "    for i in range(x1):\n",
    "        Xi = np.tile(X[i], (y1, 1, 1))\n",
    "        Xi = Xi == Y\n",
    "        X1 = np.all(Xi, axis = 2)\n",
    "        X2 = np.any(Xi, axis = 2)\n",
    "        G[i, :] = np.sum(X1, axis=1) / x2\n",
    "    return G\n",
    "\n",
    "def my_kernel_any(X, Y):\n",
    "    x1, x2, x3 = X.shape\n",
    "    y1, y2, y3 = Y.shape\n",
    "    G = np.zeros((x1, y1))\n",
    "    for i in range(x1):\n",
    "        Xi = np.tile(X[i], (y1, 1, 1))\n",
    "        Xi = Xi == Y\n",
    "        X1 = np.any(Xi, axis = 2)\n",
    "        G[i, :] = np.sum(X1, axis=1) / x2\n",
    "    return G\n",
    "\n",
    "def smc(X, Y):\n",
    "    x1, x2, x3 = X.shape\n",
    "    y1, y2, y3 = Y.shape\n",
    "    G = np.zeros((x1, y1))\n",
    "    for i in range(x1):\n",
    "        Xi = np.tile(X[i], (y1, 1, 1))\n",
    "        Xi = Xi == Y\n",
    "        #  k([a1, a2], [b1, b2]) = a1==b1 and a2==b2\n",
    "        # compares the whole microsatellite\n",
    "        X1 = np.all(Xi, axis = 2)\n",
    "        G[i, :] = np.sum(X1, axis=1) / x2\n",
    "    return G\n",
    "\n",
    "def count(X, Y):\n",
    "    x1, x2, x3 = X.shape\n",
    "    y1, y2, y3 = Y.shape\n",
    "    G = np.zeros((x1, y1))\n",
    "    for i in range(x1):\n",
    "        Xi = np.tile(X[i], (y1, 1, 1))\n",
    "        Xi = Xi == Y\n",
    "        #  k([a1, a2], [b1, b2]) = a1==b1 + a2==b2\n",
    "        X1 = np.sum(Xi, axis = 2)\n",
    "        G[i, :] = np.sum(X1, axis=1) / x2\n",
    "    return G\n",
    "\n",
    "def count2(X, Y):\n",
    "    x1, x2, x3 = X.shape\n",
    "    y1, y2, y3 = Y.shape\n",
    "    G = np.zeros((x1, y1))\n",
    "    for i in range(x1):\n",
    "        Xi = np.tile(X[i], (y1, 1, 1))\n",
    "        Xi = Xi == Y\n",
    "        #  k([a1, a2], [b1, b2]) = a1==b1 + a2==b2\n",
    "        X1 = np.sum(Xi, axis = 2)/2\n",
    "        G[i, :] = np.sum(X1, axis=1) / x2\n",
    "    return G\n",
    "\n",
    "def k0prime(X, Y):\n",
    "    x1, x2, x3 = X.shape\n",
    "    y1, y2, y3 = Y.shape\n",
    "    G = np.zeros((x1, y1))\n",
    "    for i in range(x1):\n",
    "        Xi = np.tile(X[i], (y1, 1, 1))\n",
    "        Xi = Xi == Y\n",
    "        #  k([a1, a2], [b1, b2]) = a1==b1 + a2==b2\n",
    "        X1 = np.all(Xi, axis = 2)\n",
    "        G[i, :] = np.sum(X1, axis=1) / x2\n",
    "    gamma = 1/4\n",
    "    return np.exp(gamma * G)\n",
    "\n",
    "def jaccard(X, Y):\n",
    "    x1, x2, x3 = X.shape\n",
    "    y1, y2, y3 = Y.shape\n",
    "    G = np.zeros((x1, y1))\n",
    "    for i in range(x1):\n",
    "        Xi = np.tile(X[i], (y1, 1, 1))\n",
    "        Xi = Xi == Y\n",
    "        #  k([a1, a2], [b1, b2]) = a1==b1 + a2==b2\n",
    "        X1 = np.all(Xi, axis = 2)\n",
    "        G[i, :] = np.sum(X1, axis=1) / x2\n",
    "    gamma = 1/4\n",
    "    return np.exp(gamma * G)"
   ]
  },
  {
   "cell_type": "code",
   "execution_count": 7,
   "metadata": {},
   "outputs": [],
   "source": [
    "mall = svm.SVC(kernel = my_kernel_all, C=1)\n",
    "many = svm.SVC(kernel = my_kernel_any, C=1)\n",
    "count_model = svm.SVC(kernel = count, C =1)\n",
    "cmod2 = svm.SVC(kernel = count2, C =1)\n",
    "k0 = svm.SVC(kernel = k0prime, C =1)"
   ]
  },
  {
   "cell_type": "code",
   "execution_count": 8,
   "metadata": {},
   "outputs": [
    {
     "name": "stdout",
     "output_type": "stream",
     "text": [
      "'timed_k_fold_CV' : 6.09 sec\n",
      "0.9214951400800458\n"
     ]
    }
   ],
   "source": [
    "print(timed_k_fold_CV(mall, X, y, 5))"
   ]
  },
  {
   "cell_type": "code",
   "execution_count": 9,
   "metadata": {},
   "outputs": [
    {
     "name": "stdout",
     "output_type": "stream",
     "text": [
      "'timed_k_fold_CV' : 4.15 sec\n",
      "0.912438536306461\n"
     ]
    }
   ],
   "source": [
    "print(timed_k_fold_CV(count_model, X, y, 5))"
   ]
  },
  {
   "cell_type": "code",
   "execution_count": 10,
   "metadata": {},
   "outputs": [
    {
     "name": "stdout",
     "output_type": "stream",
     "text": [
      "'timed_k_fold_CV' : 4.30 sec\n",
      "0.9184762721555174\n"
     ]
    }
   ],
   "source": [
    "print(timed_k_fold_CV(cmod2, X, y, 5))"
   ]
  },
  {
   "cell_type": "code",
   "execution_count": 11,
   "metadata": {},
   "outputs": [
    {
     "name": "stdout",
     "output_type": "stream",
     "text": [
      "'timed_k_fold_CV' : 4.69 sec\n",
      "0.9297855917667238\n"
     ]
    }
   ],
   "source": [
    "print(timed_k_fold_CV(k0, X, y, 5))"
   ]
  },
  {
   "cell_type": "code",
   "execution_count": null,
   "metadata": {},
   "outputs": [],
   "source": []
  },
  {
   "cell_type": "code",
   "execution_count": 12,
   "metadata": {},
   "outputs": [
    {
     "data": {
      "text/plain": [
       "array([[['204', '206'],\n",
       "        ['246', '249'],\n",
       "        ['142', '142'],\n",
       "        ...,\n",
       "        ['139', '171'],\n",
       "        ['239', '242'],\n",
       "        ['317', '317']],\n",
       "\n",
       "       [['164', '228'],\n",
       "        ['207', '249'],\n",
       "        ['142', '142'],\n",
       "        ...,\n",
       "        ['171', '171'],\n",
       "        ['239', '239'],\n",
       "        ['315', '315']],\n",
       "\n",
       "       [['206', '206'],\n",
       "        ['234', '246'],\n",
       "        ['142', '142'],\n",
       "        ...,\n",
       "        ['171', '171'],\n",
       "        ['239', '239'],\n",
       "        ['320', '320']],\n",
       "\n",
       "       ...,\n",
       "\n",
       "       [['174', '192'],\n",
       "        ['249', '252'],\n",
       "        ['145', '145'],\n",
       "        ...,\n",
       "        ['204', '204'],\n",
       "        ['242', '242'],\n",
       "        ['329', '329']],\n",
       "\n",
       "       [['156', '174'],\n",
       "        ['231', '252'],\n",
       "        ['145', '145'],\n",
       "        ...,\n",
       "        ['204', '204'],\n",
       "        ['242', '245'],\n",
       "        ['329', '329']],\n",
       "\n",
       "       [['172', '190'],\n",
       "        ['231', '252'],\n",
       "        ['151', '151'],\n",
       "        ...,\n",
       "        ['204', '204'],\n",
       "        ['242', '242'],\n",
       "        ['332', '332']]], dtype='<U3')"
      ]
     },
     "execution_count": 12,
     "metadata": {},
     "output_type": "execute_result"
    }
   ],
   "source": [
    "X"
   ]
  },
  {
   "cell_type": "code",
   "execution_count": 191,
   "metadata": {},
   "outputs": [
    {
     "data": {
      "text/plain": [
       "array([[[1, 1],\n",
       "        [1, 1]],\n",
       "\n",
       "       [[2, 2],\n",
       "        [3, 4]]])"
      ]
     },
     "execution_count": 191,
     "metadata": {},
     "output_type": "execute_result"
    }
   ],
   "source": [
    "np.unique(a, axis = 2)"
   ]
  },
  {
   "cell_type": "code",
   "execution_count": null,
   "metadata": {},
   "outputs": [],
   "source": []
  },
  {
   "cell_type": "code",
   "execution_count": null,
   "metadata": {},
   "outputs": [],
   "source": []
  }
 ],
 "metadata": {
  "kernelspec": {
   "display_name": "Python 3",
   "language": "python",
   "name": "python3"
  },
  "language_info": {
   "codemirror_mode": {
    "name": "ipython",
    "version": 3
   },
   "file_extension": ".py",
   "mimetype": "text/x-python",
   "name": "python",
   "nbconvert_exporter": "python",
   "pygments_lexer": "ipython3",
   "version": "3.7.3"
  }
 },
 "nbformat": 4,
 "nbformat_minor": 4
}
