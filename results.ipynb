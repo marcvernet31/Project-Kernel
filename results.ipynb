{
 "cells": [
  {
   "cell_type": "code",
   "execution_count": 1,
   "metadata": {},
   "outputs": [],
   "source": [
    "# scikit learn\n",
    "from sklearn.svm import SVC as svmModel\n",
    "# numpy\n",
    "import numpy as np\n",
    "np.random.seed(123)"
   ]
  },
  {
   "cell_type": "code",
   "execution_count": 2,
   "metadata": {},
   "outputs": [],
   "source": [
    "# datasets\n",
    "from data.datasets import CannabisOneHot\n",
    "from data.datasets import CannabisDummies"
   ]
  },
  {
   "cell_type": "code",
   "execution_count": 9,
   "metadata": {},
   "outputs": [],
   "source": [
    "# implementations of simple kernels\n",
    "import kernels.one_hot_kernels as ohk\n",
    "from utils import k_fold_CV # simple function to validate with k-fold CV "
   ]
  },
  {
   "cell_type": "code",
   "execution_count": 10,
   "metadata": {},
   "outputs": [],
   "source": [
    "c_vals = [1,50, 100]\n",
    "\n",
    "def test_kernel(my_kernel, X_1, y_1):\n",
    "    for c in c_vals:\n",
    "        model = svmModel(kernel = my_kernel, C = c)\n",
    "        print(\"Accuracy with c =\",c,\":\", k_fold_CV(model, X_1, y_1, 5))\n",
    "    print(\"-\"*10)"
   ]
  },
  {
   "cell_type": "markdown",
   "metadata": {},
   "source": [
    "## First approach with Expanded and One-Hot encoding\n",
    "\n",
    "In our first approach to the problem we tried to deal with categorical data changing the encoding to a Counter of occurences (expanded) and Dummy variables (one-hot). The kernels presented are implemented specifically for this kind of encoding."
   ]
  },
  {
   "cell_type": "code",
   "execution_count": 54,
   "metadata": {},
   "outputs": [],
   "source": [
    "expanded = CannabisOneHot()\n",
    "dummy = CannabisDummies()\n",
    "\n",
    "Xe, ye = expanded.generate()\n",
    "Xd, yd = dummy.generate()"
   ]
  },
  {
   "cell_type": "markdown",
   "metadata": {},
   "source": [
    "### Baseline kernels\n",
    "\n",
    "The first one is the linear kernel."
   ]
  },
  {
   "cell_type": "code",
   "execution_count": 57,
   "metadata": {},
   "outputs": [
    {
     "name": "stdout",
     "output_type": "stream",
     "text": [
      "Expanded encoding:\n",
      "Accuracy with c = 1 : 0.9025671812464265\n",
      "Accuracy with c = 50 : 0.9025586049170954\n",
      "Accuracy with c = 100 : 0.9025586049170954\n",
      "----------\n",
      "One hot encoding: \n",
      "Accuracy with c = 1 : 0.8995740423098914\n",
      "Accuracy with c = 50 : 0.8768925100057177\n",
      "Accuracy with c = 100 : 0.8768925100057177\n",
      "----------\n"
     ]
    }
   ],
   "source": [
    "print(\"Expanded encoding:\")\n",
    "test_kernel(\"linear\", Xe, ye)\n",
    "print(\"One hot encoding: \")\n",
    "test_kernel(\"linear\", Xd, yd)"
   ]
  },
  {
   "cell_type": "markdown",
   "metadata": {},
   "source": [
    "The Radial basis function"
   ]
  },
  {
   "cell_type": "code",
   "execution_count": 58,
   "metadata": {},
   "outputs": [
    {
     "name": "stdout",
     "output_type": "stream",
     "text": [
      "Expanded encoding:\n",
      "Accuracy with c = 1 : 0.9335477415666096\n",
      "Accuracy with c = 50 : 0.9093796455117211\n",
      "Accuracy with c = 100 : 0.9093796455117211\n",
      "----------\n",
      "One hot encoding: \n",
      "Accuracy with c = 1 : 0.9222498570611778\n",
      "Accuracy with c = 50 : 0.9199885648942253\n",
      "Accuracy with c = 100 : 0.9199885648942253\n",
      "----------\n"
     ]
    }
   ],
   "source": [
    "print(\"Expanded encoding:\")\n",
    "test_kernel(\"rbf\", Xe, ye)\n",
    "print(\"One hot encoding: \")\n",
    "test_kernel(\"rbf\", Xd, yd)"
   ]
  },
  {
   "cell_type": "markdown",
   "metadata": {},
   "source": [
    "### Categorical kernels\n",
    "\n",
    "The fist one is Simple Matching Coefficient"
   ]
  },
  {
   "cell_type": "code",
   "execution_count": 60,
   "metadata": {},
   "outputs": [
    {
     "name": "stdout",
     "output_type": "stream",
     "text": [
      "Expanded encoding:\n",
      "Accuracy with c = 1 : 0.9373156089193826\n",
      "Accuracy with c = 50 : 0.8935277301315037\n",
      "Accuracy with c = 100 : 0.9010691823899372\n",
      "----------\n",
      "One hot encoding: \n",
      "Accuracy with c = 1 : 0.9305488850771869\n",
      "Accuracy with c = 50 : 0.906383647798742\n",
      "Accuracy with c = 100 : 0.9003316180674672\n",
      "----------\n"
     ]
    }
   ],
   "source": [
    "print(\"Expanded encoding:\")\n",
    "test_kernel(ohk.smc, Xe, ye)\n",
    "print(\"One hot encoding: \")\n",
    "test_kernel(ohk.smc, Xd, yd)"
   ]
  },
  {
   "cell_type": "markdown",
   "metadata": {},
   "source": [
    "Then with Jaccard"
   ]
  },
  {
   "cell_type": "code",
   "execution_count": 61,
   "metadata": {},
   "outputs": [
    {
     "name": "stdout",
     "output_type": "stream",
     "text": [
      "Expanded encoding:\n",
      "Accuracy with c = 1 : 0.907887364208119\n",
      "Accuracy with c = 50 : 0.8686220697541452\n",
      "Accuracy with c = 100 : 0.8648399085191538\n",
      "----------\n",
      "One hot encoding: \n",
      "Accuracy with c = 1 : 0.921483704974271\n",
      "Accuracy with c = 50 : 0.9199857061177816\n",
      "Accuracy with c = 100 : 0.9222441395082905\n",
      "----------\n"
     ]
    }
   ],
   "source": [
    "print(\"Expanded encoding:\")\n",
    "test_kernel(ohk.jaccard, Xe, ye)\n",
    "print(\"One hot encoding: \")\n",
    "test_kernel(ohk.jaccard, Xd, yd)"
   ]
  },
  {
   "cell_type": "markdown",
   "metadata": {},
   "source": [
    "And the last one is the K_0'"
   ]
  },
  {
   "cell_type": "code",
   "execution_count": 67,
   "metadata": {},
   "outputs": [
    {
     "name": "stdout",
     "output_type": "stream",
     "text": [
      "Expanded encoding:\n",
      "Accuracy with c = 1 : 0.9365637507146941\n",
      "Accuracy with c = 50 : 0.9033361921097771\n",
      "Accuracy with c = 100 : 0.9048399085191539\n",
      "----------\n",
      "One hot encoding: \n",
      "Accuracy with c = 1 : 0.9313036020583191\n",
      "Accuracy with c = 50 : 0.9033590623213266\n",
      "Accuracy with c = 100 : 0.8995740423098914\n",
      "----------\n"
     ]
    }
   ],
   "source": [
    "print(\"Expanded encoding:\")\n",
    "test_kernel(ohk.k0prime, Xe, ye)\n",
    "print(\"One hot encoding: \")\n",
    "test_kernel(ohk.k0prime, Xd, yd)"
   ]
  },
  {
   "cell_type": "markdown",
   "metadata": {},
   "source": [
    "## Second approach with categorical data\n",
    "\n",
    "The original dataset has been codified in a matrix of pairs (3D array in numpy) where each pair is a microsatellite. This way the kernels take advantage of this feature. Now we don't compute base line kernels because we need custom kernels."
   ]
  },
  {
   "cell_type": "code",
   "execution_count": 4,
   "metadata": {},
   "outputs": [],
   "source": [
    "from data.datasets import CannabisGenotype\n",
    "from data.datasets import CannabisGenotype2"
   ]
  },
  {
   "cell_type": "code",
   "execution_count": 5,
   "metadata": {},
   "outputs": [],
   "source": [
    "plain_data = CannabisGenotype2()\n",
    "paired_data = CannabisGenotype()\n",
    "\n",
    "X, y = paired_data.generate()\n",
    "Xp, yp = plain_data.generate()"
   ]
  },
  {
   "cell_type": "markdown",
   "metadata": {},
   "source": [
    "Moreover the kernels will be loaded from another file."
   ]
  },
  {
   "cell_type": "code",
   "execution_count": 6,
   "metadata": {},
   "outputs": [],
   "source": [
    "import kernels.kernels3d as k3d"
   ]
  },
  {
   "cell_type": "markdown",
   "metadata": {},
   "source": [
    "### Baseline kernels"
   ]
  },
  {
   "cell_type": "code",
   "execution_count": 11,
   "metadata": {
    "scrolled": false
   },
   "outputs": [
    {
     "name": "stdout",
     "output_type": "stream",
     "text": [
      "Accuracy with c = 1 : 0.8964436821040594\n",
      "Accuracy with c = 50 : 0.8964436821040594\n",
      "Accuracy with c = 100 : 0.8964436821040594\n",
      "----------\n"
     ]
    }
   ],
   "source": [
    "test_kernel(\"linear\", Xp, yp)"
   ]
  },
  {
   "cell_type": "code",
   "execution_count": 14,
   "metadata": {},
   "outputs": [
    {
     "name": "stdout",
     "output_type": "stream",
     "text": [
      "Accuracy with c = 1 : 0.7953287592910234\n",
      "Accuracy with c = 50 : 0.9093253287592911\n",
      "Accuracy with c = 100 : 0.9100743281875359\n",
      "----------\n"
     ]
    }
   ],
   "source": [
    "test_kernel(\"rbf\", Xp, yp)"
   ]
  },
  {
   "cell_type": "markdown",
   "metadata": {},
   "source": [
    "### Categorical kernels\n",
    "\n",
    "The first one is the simple one, the Simple matching coefficient that considers both alleles."
   ]
  },
  {
   "cell_type": "code",
   "execution_count": 15,
   "metadata": {},
   "outputs": [
    {
     "name": "stdout",
     "output_type": "stream",
     "text": [
      "Accuracy with c = 1 : 0.9471526586620926\n",
      "Accuracy with c = 50 : 0.9509291023441968\n",
      "Accuracy with c = 100 : 0.9509291023441968\n",
      "----------\n"
     ]
    }
   ],
   "source": [
    "test_kernel(k3d.smc, X, y)"
   ]
  },
  {
   "cell_type": "markdown",
   "metadata": {},
   "source": [
    "The $k_0'$ kernel"
   ]
  },
  {
   "cell_type": "code",
   "execution_count": 16,
   "metadata": {},
   "outputs": [
    {
     "name": "stdout",
     "output_type": "stream",
     "text": [
      "Accuracy with c = 1 : 0.9433733562035449\n",
      "Accuracy with c = 50 : 0.9494196683819327\n",
      "Accuracy with c = 100 : 0.9494196683819327\n",
      "----------\n"
     ]
    }
   ],
   "source": [
    "test_kernel(k3d.k0prime, X, y)"
   ]
  },
  {
   "cell_type": "markdown",
   "metadata": {},
   "source": [
    "### The custom kernel\n",
    "\n",
    "After seeing that we have better results with the original encoding we decided to design a new kernel function described in the report. The implementation is as follows:"
   ]
  },
  {
   "cell_type": "code",
   "execution_count": 7,
   "metadata": {},
   "outputs": [],
   "source": [
    "def combined(X, Y):\n",
    "    gamma = 1\n",
    "    x1, x2, x3 = X.shape\n",
    "    y1, y2, y3 = Y.shape\n",
    "    # Compute the kernel matrix:\n",
    "    G = np.zeros((x1, y1))\n",
    "    Yrev = np.apply_along_axis(np.flip, 2, Y)\n",
    "    for i in range(x1):\n",
    "        Xi = np.tile(X[i], (y1, 1, 1))\n",
    "        # crossed SMC\n",
    "        Xirev = np.apply_along_axis(np.flip, 2, Xi)\n",
    "        crossedSMC = np.sum(np.all(Xirev==Yrev, axis = 2), axis = 1) / x2\n",
    "        # Normal kernel or something\n",
    "        Xi = np.all(Xi == Y, axis = 2)\n",
    "        place_smc = np.sum(Xi, axis=1) / x2\n",
    "\n",
    "        G[i, :] =  (place_smc + crossedSMC)/2\n",
    "    return G"
   ]
  },
  {
   "cell_type": "markdown",
   "metadata": {},
   "source": [
    "And although it is slower to validate, the results are good:"
   ]
  },
  {
   "cell_type": "code",
   "execution_count": 18,
   "metadata": {},
   "outputs": [],
   "source": [
    "from utils import timed_k_fold_CV"
   ]
  },
  {
   "cell_type": "code",
   "execution_count": 19,
   "metadata": {},
   "outputs": [
    {
     "name": "stdout",
     "output_type": "stream",
     "text": [
      "Accuracy with c = 1 : 0.9471526586620926\n",
      "Accuracy with c = 50 : 0.9509291023441968\n",
      "Accuracy with c = 100 : 0.9509291023441968\n",
      "----------\n"
     ]
    }
   ],
   "source": [
    "test_kernel(combined, X, y)"
   ]
  },
  {
   "cell_type": "code",
   "execution_count": 20,
   "metadata": {},
   "outputs": [
    {
     "name": "stdout",
     "output_type": "stream",
     "text": [
      "'timed_k_fold_CV' : 237.04 sec\n",
      "Accuracy: 0.9471526586620926\n"
     ]
    }
   ],
   "source": [
    "combined_model = svmModel(kernel = combined, C=1)\n",
    "print(\"Accuracy:\", timed_k_fold_CV(combined_model, X, y, 5))"
   ]
  },
  {
   "cell_type": "markdown",
   "metadata": {},
   "source": [
    "## Non kernel methods"
   ]
  },
  {
   "cell_type": "code",
   "execution_count": 13,
   "metadata": {},
   "outputs": [],
   "source": [
    "from sklearn.ensemble import RandomForestClassifier\n",
    "from sklearn.model_selection import cross_val_score\n",
    "\n",
    "Xp, yp = plain_data.generate()"
   ]
  },
  {
   "cell_type": "code",
   "execution_count": 15,
   "metadata": {},
   "outputs": [
    {
     "name": "stdout",
     "output_type": "stream",
     "text": [
      "Accuracy: 0.9365265866209261\n"
     ]
    }
   ],
   "source": [
    "rfc_model = RandomForestClassifier(n_estimators=100)\n",
    "print(\"Accuracy:\", np.mean(cross_val_score(rfc_model, Xp, yp, cv=5)))"
   ]
  }
 ],
 "metadata": {
  "kernelspec": {
   "display_name": "Python 3",
   "language": "python",
   "name": "python3"
  },
  "language_info": {
   "codemirror_mode": {
    "name": "ipython",
    "version": 3
   },
   "file_extension": ".py",
   "mimetype": "text/x-python",
   "name": "python",
   "nbconvert_exporter": "python",
   "pygments_lexer": "ipython3",
   "version": "3.7.3"
  }
 },
 "nbformat": 4,
 "nbformat_minor": 4
}
