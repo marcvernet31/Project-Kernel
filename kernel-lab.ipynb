{
 "cells": [
  {
   "cell_type": "code",
   "execution_count": 1,
   "metadata": {},
   "outputs": [],
   "source": [
    "from sklearn import svm\n",
    "from sklearn.model_selection import train_test_split\n",
    "from sklearn.model_selection import cross_val_score\n",
    "\n",
    "import numpy as np"
   ]
  },
  {
   "cell_type": "code",
   "execution_count": 2,
   "metadata": {},
   "outputs": [],
   "source": [
    "import kernels as kn\n",
    "from utils import k_fold_CV\n",
    "from utils import timed_k_fold_CV"
   ]
  },
  {
   "cell_type": "code",
   "execution_count": 3,
   "metadata": {},
   "outputs": [],
   "source": [
    "from data.datasets import CannabisGenotype2\n",
    "from data.datasets import CannabisGenotype"
   ]
  },
  {
   "cell_type": "code",
   "execution_count": 46,
   "metadata": {},
   "outputs": [],
   "source": [
    "gen = CannabisGenotype2()\n",
    "X, y = gen.generate()"
   ]
  },
  {
   "cell_type": "code",
   "execution_count": 47,
   "metadata": {},
   "outputs": [
    {
     "data": {
      "text/plain": [
       "(1324, 13, 2)"
      ]
     },
     "execution_count": 47,
     "metadata": {},
     "output_type": "execute_result"
    }
   ],
   "source": [
    "X.shape"
   ]
  },
  {
   "cell_type": "code",
   "execution_count": 6,
   "metadata": {},
   "outputs": [],
   "source": [
    "def my_kernel_all(X, Y):\n",
    "    x1, x2, x3 = X.shape\n",
    "    y1, y2, y3 = Y.shape\n",
    "    G = np.zeros((x1, y1))\n",
    "    for i in range(x1):\n",
    "        Xi = np.tile(X[i], (y1, 1, 1))\n",
    "        Xi = Xi == Y\n",
    "        X1 = np.all(Xi, axis = 2)\n",
    "        X2 = np.any(Xi, axis = 2)\n",
    "        G[i, :] = np.sum(X1, axis=1) / x2\n",
    "    return G\n",
    "\n",
    "def my_kernel_any(X, Y):\n",
    "    x1, x2, x3 = X.shape\n",
    "    y1, y2, y3 = Y.shape\n",
    "    G = np.zeros((x1, y1))\n",
    "    for i in range(x1):\n",
    "        Xi = np.tile(X[i], (y1, 1, 1))\n",
    "        Xi = Xi == Y\n",
    "        X1 = np.any(Xi, axis = 2)\n",
    "        G[i, :] = np.sum(X1, axis=1) / x2\n",
    "    return G\n",
    "\n",
    "def smc(X, Y):\n",
    "    x1, x2, x3 = X.shape\n",
    "    y1, y2, y3 = Y.shape\n",
    "    G = np.zeros((x1, y1))\n",
    "    for i in range(x1):\n",
    "        Xi = np.tile(X[i], (y1, 1, 1))\n",
    "        Xi = Xi == Y\n",
    "        #  k([a1, a2], [b1, b2]) = a1==b1 and a2==b2\n",
    "        # compares the whole microsatellite\n",
    "        X1 = np.all(Xi, axis = 2)\n",
    "        G[i, :] = np.sum(X1, axis=1) / x2\n",
    "    return G\n",
    "\n",
    "def count(X, Y):\n",
    "    x1, x2, x3 = X.shape\n",
    "    y1, y2, y3 = Y.shape\n",
    "    G = np.zeros((x1, y1))\n",
    "    for i in range(x1):\n",
    "        Xi = np.tile(X[i], (y1, 1, 1))\n",
    "        Xi = Xi == Y\n",
    "        #  k([a1, a2], [b1, b2]) = a1==b1 + a2==b2\n",
    "        X1 = np.sum(Xi, axis = 2)\n",
    "        G[i, :] = np.sum(X1, axis=1) / x2\n",
    "    return G\n",
    "\n",
    "def count2(X, Y):\n",
    "    x1, x2, x3 = X.shape\n",
    "    y1, y2, y3 = Y.shape\n",
    "    G = np.zeros((x1, y1))\n",
    "    for i in range(x1):\n",
    "        Xi = np.tile(X[i], (y1, 1, 1))\n",
    "        Xi = Xi == Y\n",
    "        #  k([a1, a2], [b1, b2]) = a1==b1 + a2==b2\n",
    "        X1 = np.sum(Xi, axis = 2)/2\n",
    "        G[i, :] = np.sum(X1, axis=1) / x2\n",
    "    return G\n",
    "\n",
    "def k0prime(X, Y):\n",
    "    x1, x2, x3 = X.shape\n",
    "    y1, y2, y3 = Y.shape\n",
    "    G = np.zeros((x1, y1))\n",
    "    for i in range(x1):\n",
    "        Xi = np.tile(X[i], (y1, 1, 1))\n",
    "        Xi = Xi == Y\n",
    "        #  k([a1, a2], [b1, b2]) = a1==b1 + a2==b2\n",
    "        X1 = np.all(Xi, axis = 2)\n",
    "        G[i, :] = np.sum(X1, axis=1) / x2\n",
    "    gamma = 1/4\n",
    "    return np.exp(gamma * G)"
   ]
  },
  {
   "cell_type": "markdown",
   "metadata": {},
   "source": [
    "## Nous Kernels"
   ]
  },
  {
   "cell_type": "code",
   "execution_count": 62,
   "metadata": {},
   "outputs": [],
   "source": [
    "def SMC(X, Y):\n",
    "    x1, x2, x3 = X.shape\n",
    "    y1, y2, y3 = Y.shape\n",
    "    # Compute the kernel matrix:\n",
    "    G = np.zeros((xm, ym))\n",
    "    for i in range(xm):\n",
    "        Xi = np.tile(X[i], (ym, 1))\n",
    "        Xi = Xi == Y # prevf\n",
    "        G[i, :] = (np.sum(Xi, axis=1)/xn)\n",
    "    return G # postf f(G)\n",
    "\n",
    "\n",
    "def SMC_creuat(X,Y):\n",
    "    X = X[0]\n",
    "    Y = Y[0]\n",
    "    n = len(X)\n",
    "    eq = 0\n",
    "    for i in range(0, n-1, 2):\n",
    "        eq += (X[i] == Y[i+1]) \n",
    "        eq += (Y[i] == X[i+1])\n",
    "    return eq/n\n",
    "\n",
    "def compare(array):\n",
    "    return array[0] == array[1]\n",
    "\n",
    "\n",
    "def combined(X, Y):\n",
    "    gamma = 1\n",
    "    x1, x2, x3 = X.shape\n",
    "    y1, y2, y3 = Y.shape\n",
    "    # Compute the kernel matrix:\n",
    "    G = np.zeros((x1, y1))\n",
    "    Ysame = np.apply_along_axis(compare, 2, Y)\n",
    "    Yrev = np.apply_along_axis(np.flip, 2, Y)\n",
    "    for i in range(x1):\n",
    "        Xi = np.tile(X[i], (y1, 1, 1))\n",
    "        # equality kernel\n",
    "        Xisame = np.apply_along_axis(compare, 2, Xi)\n",
    "        equality = 2 * np.sum(Xisame == Ysame, axis = 1) / x2\n",
    "        # crossed SMC\n",
    "        Xirev = np.apply_along_axis(np.flip, 2, Xi)\n",
    "        crossedSMC = np.sum(np.all(Xirev==Yrev, axis = 2), axis = 1) / x2\n",
    "        # Normal kernel or something\n",
    "        Xi = np.all(Xi == Y, axis = 2)\n",
    "        k1 = np.sum(Xi, axis=1)\n",
    "    \n",
    "        G[i, :] = 0.8 * k1 / x2 + 0.1 * equality + 0.1 * crossedSMC\n",
    "    return G # postf f(G)"
   ]
  },
  {
   "cell_type": "code",
   "execution_count": 63,
   "metadata": {},
   "outputs": [
    {
     "name": "stdout",
     "output_type": "stream",
     "text": [
      "(993,) (993,) (993,)\n",
      "(993,) (993,) (993,)\n",
      "(993,) (993,) (993,)\n",
      "(993,) (993,) (993,)\n",
      "(993,) (993,) (993,)\n",
      "(993,) (993,) (993,)\n",
      "(993,) (993,) (993,)\n",
      "(993,) (993,) (993,)\n",
      "'timed_k_fold_CV' : 450.51 sec\n",
      "0.9765861027190332\n"
     ]
    }
   ],
   "source": [
    "newkernel = svm.SVC(kernel = combined, C = 1)\n",
    "print(timed_k_fold_CV(newkernel, X, y, 4))"
   ]
  },
  {
   "cell_type": "code",
   "execution_count": 64,
   "metadata": {},
   "outputs": [
    {
     "name": "stdout",
     "output_type": "stream",
     "text": [
      "(1324,) (1324,) (1324,)\n"
     ]
    }
   ],
   "source": [
    "gram_combined = combined(X,X)"
   ]
  },
  {
   "cell_type": "code",
   "execution_count": 68,
   "metadata": {},
   "outputs": [
    {
     "ename": "TypeError",
     "evalue": "__init__() got an unexpected keyword argument 'gram'",
     "output_type": "error",
     "traceback": [
      "\u001b[0;31m---------------------------------------------------------------------------\u001b[0m",
      "\u001b[0;31mTypeError\u001b[0m                                 Traceback (most recent call last)",
      "\u001b[0;32m<ipython-input-68-21f3fd7a3e0f>\u001b[0m in \u001b[0;36m<module>\u001b[0;34m\u001b[0m\n\u001b[0;32m----> 1\u001b[0;31m \u001b[0mmodel_comb\u001b[0m \u001b[0;34m=\u001b[0m \u001b[0msvm\u001b[0m\u001b[0;34m.\u001b[0m\u001b[0mSVC\u001b[0m\u001b[0;34m(\u001b[0m\u001b[0mkernel\u001b[0m \u001b[0;34m=\u001b[0m \u001b[0mgram_combined\u001b[0m\u001b[0;34m,\u001b[0m \u001b[0mC\u001b[0m\u001b[0;34m=\u001b[0m\u001b[0;36m1\u001b[0m\u001b[0;34m,\u001b[0m \u001b[0mgram\u001b[0m \u001b[0;34m=\u001b[0m \u001b[0;32mTrue\u001b[0m\u001b[0;34m)\u001b[0m\u001b[0;34m\u001b[0m\u001b[0;34m\u001b[0m\u001b[0m\n\u001b[0m\u001b[1;32m      2\u001b[0m \u001b[0mprint\u001b[0m\u001b[0;34m(\u001b[0m\u001b[0mtimed_k_fold_CV\u001b[0m\u001b[0;34m(\u001b[0m\u001b[0mmodel_comb\u001b[0m\u001b[0;34m,\u001b[0m \u001b[0mX\u001b[0m\u001b[0;34m,\u001b[0m \u001b[0my\u001b[0m\u001b[0;34m,\u001b[0m \u001b[0;36m4\u001b[0m\u001b[0;34m)\u001b[0m\u001b[0;34m)\u001b[0m\u001b[0;34m\u001b[0m\u001b[0;34m\u001b[0m\u001b[0m\n",
      "\u001b[0;32m~/anaconda3/lib/python3.7/site-packages/sklearn/utils/validation.py\u001b[0m in \u001b[0;36minner_f\u001b[0;34m(*args, **kwargs)\u001b[0m\n\u001b[1;32m     70\u001b[0m                           FutureWarning)\n\u001b[1;32m     71\u001b[0m         \u001b[0mkwargs\u001b[0m\u001b[0;34m.\u001b[0m\u001b[0mupdate\u001b[0m\u001b[0;34m(\u001b[0m\u001b[0;34m{\u001b[0m\u001b[0mk\u001b[0m\u001b[0;34m:\u001b[0m \u001b[0marg\u001b[0m \u001b[0;32mfor\u001b[0m \u001b[0mk\u001b[0m\u001b[0;34m,\u001b[0m \u001b[0marg\u001b[0m \u001b[0;32min\u001b[0m \u001b[0mzip\u001b[0m\u001b[0;34m(\u001b[0m\u001b[0msig\u001b[0m\u001b[0;34m.\u001b[0m\u001b[0mparameters\u001b[0m\u001b[0;34m,\u001b[0m \u001b[0margs\u001b[0m\u001b[0;34m)\u001b[0m\u001b[0;34m}\u001b[0m\u001b[0;34m)\u001b[0m\u001b[0;34m\u001b[0m\u001b[0;34m\u001b[0m\u001b[0m\n\u001b[0;32m---> 72\u001b[0;31m         \u001b[0;32mreturn\u001b[0m \u001b[0mf\u001b[0m\u001b[0;34m(\u001b[0m\u001b[0;34m**\u001b[0m\u001b[0mkwargs\u001b[0m\u001b[0;34m)\u001b[0m\u001b[0;34m\u001b[0m\u001b[0;34m\u001b[0m\u001b[0m\n\u001b[0m\u001b[1;32m     73\u001b[0m     \u001b[0;32mreturn\u001b[0m \u001b[0minner_f\u001b[0m\u001b[0;34m\u001b[0m\u001b[0;34m\u001b[0m\u001b[0m\n\u001b[1;32m     74\u001b[0m \u001b[0;34m\u001b[0m\u001b[0m\n",
      "\u001b[0;31mTypeError\u001b[0m: __init__() got an unexpected keyword argument 'gram'"
     ]
    }
   ],
   "source": [
    "model_comb = svm.SVC(kernel = gram_combined, C=1, gram = True)\n",
    "print(timed_k_fold_CV(model_comb, X, y, 4))"
   ]
  },
  {
   "cell_type": "code",
   "execution_count": null,
   "metadata": {},
   "outputs": [],
   "source": [
    "def jaccard(X, Y):\n",
    "    x1, x2, x3 = X.shape\n",
    "    y1, y2, y3 = Y.shape\n",
    "    G = np.zeros((x1, y1))\n",
    "    for i in range(x1):\n",
    "        Xi = np.tile(X[i], (y1, 1, 1))\n",
    "        Xi = Xi == Y\n",
    "        #  k([a1, a2], [b1, b2]) = a1==b1 + a2==b2 / ()\n",
    "        X1 = np.all(Xi, axis = 2)\n",
    "        G[i, :] = np.sum(X1, axis=1) / x2\n",
    "    gamma = 1/4\n",
    "    return np.exp(gamma * G)"
   ]
  },
  {
   "cell_type": "code",
   "execution_count": 7,
   "metadata": {},
   "outputs": [],
   "source": [
    "mall = svm.SVC(kernel = my_kernel_all, C=1)\n",
    "many = svm.SVC(kernel = my_kernel_any, C=1)\n",
    "count_model = svm.SVC(kernel = count, C =1)\n",
    "cmod2 = svm.SVC(kernel = count2, C =1)\n",
    "k0 = svm.SVC(kernel = k0prime, C =1)"
   ]
  },
  {
   "cell_type": "code",
   "execution_count": 8,
   "metadata": {},
   "outputs": [
    {
     "name": "stdout",
     "output_type": "stream",
     "text": [
      "'timed_k_fold_CV' : 6.09 sec\n",
      "0.9214951400800458\n"
     ]
    }
   ],
   "source": [
    "print(timed_k_fold_CV(mall, X, y, 5))"
   ]
  },
  {
   "cell_type": "code",
   "execution_count": 9,
   "metadata": {},
   "outputs": [
    {
     "name": "stdout",
     "output_type": "stream",
     "text": [
      "'timed_k_fold_CV' : 4.15 sec\n",
      "0.912438536306461\n"
     ]
    }
   ],
   "source": [
    "print(timed_k_fold_CV(count_model, X, y, 5))"
   ]
  },
  {
   "cell_type": "code",
   "execution_count": 10,
   "metadata": {},
   "outputs": [
    {
     "name": "stdout",
     "output_type": "stream",
     "text": [
      "'timed_k_fold_CV' : 4.30 sec\n",
      "0.9184762721555174\n"
     ]
    }
   ],
   "source": [
    "print(timed_k_fold_CV(cmod2, X, y, 5))"
   ]
  },
  {
   "cell_type": "code",
   "execution_count": 11,
   "metadata": {},
   "outputs": [
    {
     "name": "stdout",
     "output_type": "stream",
     "text": [
      "'timed_k_fold_CV' : 4.69 sec\n",
      "0.9297855917667238\n"
     ]
    }
   ],
   "source": [
    "print(timed_k_fold_CV(k0, X, y, 5))"
   ]
  },
  {
   "cell_type": "code",
   "execution_count": 65,
   "metadata": {},
   "outputs": [],
   "source": [
    "def new_k(X, Y):\n",
    "    x1, x2, x3 = X.shape\n",
    "    y1, y2, y3 = Y.shape\n",
    "    G = np.zeros((x1, y1))\n",
    "    for i in range(x1):\n",
    "        Xi = np.tile(X[i], (y1, 1, 1))\n",
    "        Xi = Xi == Y\n",
    "        X1 = np.sum(Xi, axis = 2)\n",
    "        G[i, :] = np.sum(X1, axis=1) / x2\n",
    "    return G*G"
   ]
  },
  {
   "cell_type": "code",
   "execution_count": 66,
   "metadata": {},
   "outputs": [
    {
     "name": "stdout",
     "output_type": "stream",
     "text": [
      "'timed_k_fold_CV' : 4.18 sec\n",
      "0.9199885648942253\n"
     ]
    }
   ],
   "source": [
    "newkernel = svm.SVC(kernel = new_k, C = 1)\n",
    "print(timed_k_fold_CV(newkernel, X, y, 5))"
   ]
  },
  {
   "cell_type": "code",
   "execution_count": 6,
   "metadata": {},
   "outputs": [],
   "source": [
    "def simpleMC(X, Y):\n",
    "    x1, x2 = X.shape\n",
    "    y1, y2 = Y.shape\n",
    "    G = np.zeros((x1, y1))\n",
    "    for i in range(x1):\n",
    "        Xi = np.tile(X[i], (y1, 1))\n",
    "        Xi = Xi == Y\n",
    "        G[i, :] = np.sum(Xi, axis=1) / x2\n",
    "    return G"
   ]
  },
  {
   "cell_type": "code",
   "execution_count": 70,
   "metadata": {},
   "outputs": [
    {
     "ename": "NameError",
     "evalue": "name 'simpleMC' is not defined",
     "output_type": "error",
     "traceback": [
      "\u001b[0;31m---------------------------------------------------------------------------\u001b[0m",
      "\u001b[0;31mNameError\u001b[0m                                 Traceback (most recent call last)",
      "\u001b[0;32m<ipython-input-70-ee5c7e08bf22>\u001b[0m in \u001b[0;36m<module>\u001b[0;34m\u001b[0m\n\u001b[0;32m----> 1\u001b[0;31m \u001b[0msimple\u001b[0m \u001b[0;34m=\u001b[0m \u001b[0msvm\u001b[0m\u001b[0;34m.\u001b[0m\u001b[0mSVC\u001b[0m\u001b[0;34m(\u001b[0m\u001b[0mkernel\u001b[0m \u001b[0;34m=\u001b[0m \u001b[0msimpleMC\u001b[0m\u001b[0;34m,\u001b[0m \u001b[0mC\u001b[0m \u001b[0;34m=\u001b[0m \u001b[0;36m1\u001b[0m\u001b[0;34m/\u001b[0m\u001b[0;36m4\u001b[0m\u001b[0;34m)\u001b[0m\u001b[0;34m\u001b[0m\u001b[0;34m\u001b[0m\u001b[0m\n\u001b[0m\u001b[1;32m      2\u001b[0m \u001b[0mprint\u001b[0m\u001b[0;34m(\u001b[0m\u001b[0mtimed_k_fold_CV\u001b[0m\u001b[0;34m(\u001b[0m\u001b[0msimple\u001b[0m\u001b[0;34m,\u001b[0m \u001b[0mX\u001b[0m\u001b[0;34m,\u001b[0m \u001b[0my\u001b[0m\u001b[0;34m,\u001b[0m \u001b[0;36m5\u001b[0m\u001b[0;34m)\u001b[0m\u001b[0;34m)\u001b[0m\u001b[0;34m\u001b[0m\u001b[0;34m\u001b[0m\u001b[0m\n",
      "\u001b[0;31mNameError\u001b[0m: name 'simpleMC' is not defined"
     ]
    }
   ],
   "source": [
    "simple = svm.SVC(kernel = simpleMC, C = 1/4)\n",
    "print(timed_k_fold_CV(simple, X, y, 5))"
   ]
  },
  {
   "cell_type": "code",
   "execution_count": 15,
   "metadata": {},
   "outputs": [
    {
     "data": {
      "text/plain": [
       "array([4, 4])"
      ]
     },
     "execution_count": 15,
     "metadata": {},
     "output_type": "execute_result"
    }
   ],
   "source": [
    "np.tile(4, 2)"
   ]
  },
  {
   "cell_type": "code",
   "execution_count": 69,
   "metadata": {},
   "outputs": [],
   "source": [
    "def optimize_C(my_kernel, X, y, folds, lbound, ubound):\n",
    "    n = 100\n",
    "    it = np.tile(lbound, n) + np.array(range((ubound-lbound)*n))/100\n",
    "    acc = []\n",
    "    for c in it:\n",
    "        if c !=0:\n",
    "            mod = svm.SVC(kernel = my_kernel, C = c)\n",
    "            acc.append(k_fold_CV(mod, X, y, folds))\n",
    "        else:\n",
    "            acc.append(1)\n",
    "    return np.array(acc), it"
   ]
  },
  {
   "cell_type": "code",
   "execution_count": 33,
   "metadata": {},
   "outputs": [],
   "source": [
    "acu, iter_ = optimize_C(simpleMC, X, y, 5, 0,10)"
   ]
  },
  {
   "cell_type": "code",
   "execution_count": 37,
   "metadata": {},
   "outputs": [
    {
     "data": {
      "text/plain": [
       "[<matplotlib.lines.Line2D at 0x7f88c8779550>]"
      ]
     },
     "execution_count": 37,
     "metadata": {},
     "output_type": "execute_result"
    },
    {
     "data": {
      "image/png": "[encoded data removed]",
      "text/plain": [
       "<Figure size 432x288 with 1 Axes>"
      ]
     },
     "metadata": {
      "needs_background": "light"
     },
     "output_type": "display_data"
    }
   ],
   "source": [
    "import matplotlib.pyplot as plt\n",
    "\n",
    "plt.plot(iter_[1:], acu[1:])"
   ]
  },
  {
   "cell_type": "code",
   "execution_count": 36,
   "metadata": {},
   "outputs": [
    {
     "data": {
      "text/plain": [
       "0.9343224699828474"
      ]
     },
     "execution_count": 36,
     "metadata": {},
     "output_type": "execute_result"
    }
   ],
   "source": [
    "np.max(acu[1:])"
   ]
  },
  {
   "cell_type": "code",
   "execution_count": null,
   "metadata": {},
   "outputs": [],
   "source": []
  }
 ],
 "metadata": {
  "kernelspec": {
   "display_name": "Python 3",
   "language": "python",
   "name": "python3"
  },
  "language_info": {
   "codemirror_mode": {
    "name": "ipython",
    "version": 3
   },
   "file_extension": ".py",
   "mimetype": "text/x-python",
   "name": "python",
   "nbconvert_exporter": "python",
   "pygments_lexer": "ipython3",
   "version": "3.7.3"
  }
 },
 "nbformat": 4,
 "nbformat_minor": 4
}
