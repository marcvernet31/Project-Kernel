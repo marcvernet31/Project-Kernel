{
 "cells": [
  {
   "cell_type": "code",
   "execution_count": 1,
   "metadata": {},
   "outputs": [],
   "source": [
    "# scikit learn\n",
    "from sklearn.svm import SVC as svmModel\n",
    "# numpy\n",
    "import numpy as np"
   ]
  },
  {
   "cell_type": "code",
   "execution_count": 2,
   "metadata": {},
   "outputs": [],
   "source": [
    "# datasets\n",
    "from data.datasets import CannabisOneHot\n",
    "from data.datasets import CannabisDummies"
   ]
  },
  {
   "cell_type": "code",
   "execution_count": 3,
   "metadata": {},
   "outputs": [],
   "source": [
    "# implementations of simple kernels\n",
    "import kernels.one_hot_kernels as ohk\n",
    "from utils import k_fold_CV # simple function to validate with k-fold CV "
   ]
  },
  {
   "cell_type": "markdown",
   "metadata": {},
   "source": [
    "## First approach with Expanded and One-Hot encoding\n",
    "\n",
    "In our first approach to the problem we tried to deal with categorical data changing the encoding to a Counter of occurences (expanded) and Dummy variables (one-hot). The kernels presented are implemented specifically for this kind of encoding."
   ]
  },
  {
   "cell_type": "code",
   "execution_count": 16,
   "metadata": {},
   "outputs": [],
   "source": [
    "expanded = CannabisOneHot()\n",
    "dummy = CannabisDummies()\n",
    "\n",
    "Xe, ye = expanded.generate()\n",
    "Xd, yd = dummy.generate()"
   ]
  },
  {
   "cell_type": "markdown",
   "metadata": {},
   "source": [
    "### Baseline kernels\n",
    "\n",
    "The first one is the linear kernel."
   ]
  },
  {
   "cell_type": "code",
   "execution_count": 17,
   "metadata": {},
   "outputs": [
    {
     "name": "stdout",
     "output_type": "stream",
     "text": [
      "Accuracy with expanded encoding 0.9025671812464265\n",
      "Accuracy with dummy encoding 0.8995740423098914\n"
     ]
    }
   ],
   "source": [
    "linear_model = svmModel(kernel = \"linear\", C = 1)\n",
    "print(\"Accuracy with expanded encoding\", k_fold_CV(linear_model, Xe, ye, 5))\n",
    "print(\"Accuracy with dummy encoding\", k_fold_CV(linear_model, Xd, yd, 5))"
   ]
  },
  {
   "cell_type": "markdown",
   "metadata": {},
   "source": [
    "The Radial basis function"
   ]
  },
  {
   "cell_type": "code",
   "execution_count": 18,
   "metadata": {},
   "outputs": [
    {
     "name": "stdout",
     "output_type": "stream",
     "text": [
      "Accuracy with expanded encoding 0.9335477415666096\n",
      "Accuracy with dummy encoding 0.9222498570611778\n"
     ]
    }
   ],
   "source": [
    "RBF_model = svmModel(kernel = \"rbf\", C = 1)\n",
    "print(\"Accuracy with expanded encoding\", k_fold_CV(RBF_model, Xe, ye, 5))\n",
    "print(\"Accuracy with dummy encoding\", k_fold_CV(RBF_model, Xd, yd, 5))"
   ]
  },
  {
   "cell_type": "markdown",
   "metadata": {},
   "source": [
    "### Categorical kernels\n",
    "\n",
    "The fist one is Simple Matching Coefficient"
   ]
  },
  {
   "cell_type": "code",
   "execution_count": 19,
   "metadata": {},
   "outputs": [
    {
     "name": "stdout",
     "output_type": "stream",
     "text": [
      "Accuracy with expanded encoding 0.9373156089193826\n",
      "Accuracy with dummy encoding 0.9305488850771869\n"
     ]
    }
   ],
   "source": [
    "smc1_model = svmModel(kernel = ohk.smc, C=1)\n",
    "print(\"Accuracy with expanded encoding\", k_fold_CV(smc1_model, Xe, ye, 5))\n",
    "print(\"Accuracy with dummy encoding\", k_fold_CV(smc1_model, Xd, yd, 5))"
   ]
  },
  {
   "cell_type": "markdown",
   "metadata": {},
   "source": [
    "Then with Jaccard"
   ]
  },
  {
   "cell_type": "code",
   "execution_count": 22,
   "metadata": {},
   "outputs": [
    {
     "name": "stdout",
     "output_type": "stream",
     "text": [
      "Accuracy with expanded encoding 0.907887364208119\n",
      "Accuracy with dummy encoding 0.921483704974271\n"
     ]
    }
   ],
   "source": [
    "jaccard_model = svmModel(kernel = ohk.jaccard, C=1)\n",
    "print(\"Accuracy with expanded encoding\", k_fold_CV(jaccard_model, Xe, ye, 5))\n",
    "print(\"Accuracy with dummy encoding\", k_fold_CV(jaccard_model, Xd, yd, 5))"
   ]
  },
  {
   "cell_type": "markdown",
   "metadata": {},
   "source": [
    "And the last one is the K_0'"
   ]
  },
  {
   "cell_type": "code",
   "execution_count": 23,
   "metadata": {},
   "outputs": [
    {
     "name": "stdout",
     "output_type": "stream",
     "text": [
      "Accuracy with expanded encoding 0.9365637507146941\n",
      "Accuracy with dummy encoding 0.9313036020583191\n"
     ]
    }
   ],
   "source": [
    "k0_model = svmModel(kernel = ohk.k0prime, C=1)\n",
    "print(\"Accuracy with expanded encoding\", k_fold_CV(k0_model, Xe, ye, 5))\n",
    "print(\"Accuracy with dummy encoding\", k_fold_CV(k0_model, Xd, yd, 5))"
   ]
  },
  {
   "cell_type": "markdown",
   "metadata": {},
   "source": [
    "## Second approach with categorical data\n",
    "\n",
    "The original dataset has been codified in a matrix of pairs (3D array in numpy) where each pair is a microsatellite. This way the kernels take advantage of this feature. Now we don't compute base line kernels because we need custom kernels."
   ]
  },
  {
   "cell_type": "code",
   "execution_count": 4,
   "metadata": {},
   "outputs": [],
   "source": [
    "from data.datasets import CannabisGenotype"
   ]
  },
  {
   "cell_type": "code",
   "execution_count": 5,
   "metadata": {},
   "outputs": [],
   "source": [
    "paired_data = CannabisGenotype()\n",
    "\n",
    "X, y = paired_data.generate()"
   ]
  },
  {
   "cell_type": "markdown",
   "metadata": {},
   "source": [
    "Moreover the kernels will be loaded from another file."
   ]
  },
  {
   "cell_type": "code",
   "execution_count": 6,
   "metadata": {},
   "outputs": [],
   "source": [
    "import kernels.kernels3d as k3d"
   ]
  },
  {
   "cell_type": "markdown",
   "metadata": {},
   "source": [
    "### Categorical kernels\n",
    "\n",
    "The first one is the simple one, the Simple matching coefficient that considers both alleles."
   ]
  },
  {
   "cell_type": "code",
   "execution_count": 7,
   "metadata": {},
   "outputs": [
    {
     "name": "stdout",
     "output_type": "stream",
     "text": [
      "Accuracy: 0.9471526586620926\n"
     ]
    }
   ],
   "source": [
    "smc_model = svmModel(kernel = k3d.smc, C=1)\n",
    "print(\"Accuracy:\", k_fold_CV(smc_model, X, y, 5))"
   ]
  },
  {
   "cell_type": "markdown",
   "metadata": {},
   "source": [
    "The $k_0'$ kernel"
   ]
  },
  {
   "cell_type": "code",
   "execution_count": 8,
   "metadata": {},
   "outputs": [
    {
     "name": "stdout",
     "output_type": "stream",
     "text": [
      "Accuracy: 0.9433733562035449\n"
     ]
    }
   ],
   "source": [
    "k0_model = svmModel(kernel = k3d.k0prime, C=1)\n",
    "print(\"Accuracy:\", k_fold_CV(k0_model, X, y, 5))"
   ]
  },
  {
   "cell_type": "markdown",
   "metadata": {},
   "source": [
    "### The custom kernel\n",
    "\n",
    "After seeing that we have better results with the original encoding we decided to design a new kernel function described in the report. The implementation is as follows:"
   ]
  },
  {
   "cell_type": "code",
   "execution_count": 10,
   "metadata": {},
   "outputs": [],
   "source": [
    "def compare(array):\n",
    "    return array[0] == array[1]\n",
    "\n",
    "\n",
    "def combined(X, Y):\n",
    "    gamma = 1\n",
    "    x1, x2, x3 = X.shape\n",
    "    y1, y2, y3 = Y.shape\n",
    "    # Compute the kernel matrix:\n",
    "    G = np.zeros((x1, y1))\n",
    "    Ysame = np.apply_along_axis(compare, 2, Y)\n",
    "    Yrev = np.apply_along_axis(np.flip, 2, Y)\n",
    "    for i in range(x1):\n",
    "        Xi = np.tile(X[i], (y1, 1, 1))\n",
    "        # equality kernel\n",
    "        Xisame = np.apply_along_axis(compare, 2, Xi)\n",
    "        equality = 2 * np.sum(Xisame == Ysame, axis = 1) / x2\n",
    "        # crossed SMC\n",
    "        Xirev = np.apply_along_axis(np.flip, 2, Xi)\n",
    "        crossedSMC = np.sum(np.all(Xirev==Yrev, axis = 2), axis = 1) / x2\n",
    "        # Normal kernel or something\n",
    "        Xi = np.all(Xi == Y, axis = 2)\n",
    "        k1 = np.sum(Xi, axis=1)\n",
    "\n",
    "        G[i, :] = 0.8 * k1 / x2 + 0.1 * equality + 0.1 * crossedSMC\n",
    "    return G # postf f(G)"
   ]
  },
  {
   "cell_type": "markdown",
   "metadata": {},
   "source": [
    "And although it is slower to validate, the results are good:"
   ]
  },
  {
   "cell_type": "code",
   "execution_count": 12,
   "metadata": {},
   "outputs": [
    {
     "name": "stdout",
     "output_type": "stream",
     "text": [
      "Accuracy: 0.9471526586620926\n"
     ]
    }
   ],
   "source": [
    "combined_model = svmModel(kernel = combined, C=1)\n",
    "print(\"Accuracy:\", k_fold_CV(combined_model, X, y, 5))"
   ]
  },
  {
   "cell_type": "markdown",
   "metadata": {},
   "source": [
    "## Non kernel methods"
   ]
  },
  {
   "cell_type": "code",
   "execution_count": 9,
   "metadata": {},
   "outputs": [],
   "source": [
    "from sklearn.ensemble import RandomForestClassifier\n",
    "from sklearn.model_selection import cross_val_score\n",
    "from datasets.data import CannabisGenotype2\n",
    "\n"
   ]
  },
  {
   "cell_type": "code",
   "execution_count": 11,
   "metadata": {},
   "outputs": [
    {
     "name": "stdout",
     "output_type": "stream",
     "text": [
      "Accuracy: nan\n"
     ]
    },
    {
     "name": "stderr",
     "output_type": "stream",
     "text": [
      "/Users/jordi/anaconda3/lib/python3.7/site-packages/sklearn/model_selection/_validation.py:552: FitFailedWarning: Estimator fit failed. The score on this train-test partition for these parameters will be set to nan. Details: \n",
      "Traceback (most recent call last):\n",
      "  File \"/Users/jordi/anaconda3/lib/python3.7/site-packages/sklearn/model_selection/_validation.py\", line 531, in _fit_and_score\n",
      "    estimator.fit(X_train, y_train, **fit_params)\n",
      "  File \"/Users/jordi/anaconda3/lib/python3.7/site-packages/sklearn/ensemble/_forest.py\", line 304, in fit\n",
      "    accept_sparse=\"csc\", dtype=DTYPE)\n",
      "  File \"/Users/jordi/anaconda3/lib/python3.7/site-packages/sklearn/base.py\", line 432, in _validate_data\n",
      "    X, y = check_X_y(X, y, **check_params)\n",
      "  File \"/Users/jordi/anaconda3/lib/python3.7/site-packages/sklearn/utils/validation.py\", line 72, in inner_f\n",
      "    return f(**kwargs)\n",
      "  File \"/Users/jordi/anaconda3/lib/python3.7/site-packages/sklearn/utils/validation.py\", line 802, in check_X_y\n",
      "    estimator=estimator)\n",
      "  File \"/Users/jordi/anaconda3/lib/python3.7/site-packages/sklearn/utils/validation.py\", line 72, in inner_f\n",
      "    return f(**kwargs)\n",
      "  File \"/Users/jordi/anaconda3/lib/python3.7/site-packages/sklearn/utils/validation.py\", line 641, in check_array\n",
      "    % (array.ndim, estimator_name))\n",
      "ValueError: Found array with dim 3. Estimator expected <= 2.\n",
      "\n",
      "  FitFailedWarning)\n",
      "/Users/jordi/anaconda3/lib/python3.7/site-packages/sklearn/model_selection/_validation.py:552: FitFailedWarning: Estimator fit failed. The score on this train-test partition for these parameters will be set to nan. Details: \n",
      "Traceback (most recent call last):\n",
      "  File \"/Users/jordi/anaconda3/lib/python3.7/site-packages/sklearn/model_selection/_validation.py\", line 531, in _fit_and_score\n",
      "    estimator.fit(X_train, y_train, **fit_params)\n",
      "  File \"/Users/jordi/anaconda3/lib/python3.7/site-packages/sklearn/ensemble/_forest.py\", line 304, in fit\n",
      "    accept_sparse=\"csc\", dtype=DTYPE)\n",
      "  File \"/Users/jordi/anaconda3/lib/python3.7/site-packages/sklearn/base.py\", line 432, in _validate_data\n",
      "    X, y = check_X_y(X, y, **check_params)\n",
      "  File \"/Users/jordi/anaconda3/lib/python3.7/site-packages/sklearn/utils/validation.py\", line 72, in inner_f\n",
      "    return f(**kwargs)\n",
      "  File \"/Users/jordi/anaconda3/lib/python3.7/site-packages/sklearn/utils/validation.py\", line 802, in check_X_y\n",
      "    estimator=estimator)\n",
      "  File \"/Users/jordi/anaconda3/lib/python3.7/site-packages/sklearn/utils/validation.py\", line 72, in inner_f\n",
      "    return f(**kwargs)\n",
      "  File \"/Users/jordi/anaconda3/lib/python3.7/site-packages/sklearn/utils/validation.py\", line 641, in check_array\n",
      "    % (array.ndim, estimator_name))\n",
      "ValueError: Found array with dim 3. Estimator expected <= 2.\n",
      "\n",
      "  FitFailedWarning)\n",
      "/Users/jordi/anaconda3/lib/python3.7/site-packages/sklearn/model_selection/_validation.py:552: FitFailedWarning: Estimator fit failed. The score on this train-test partition for these parameters will be set to nan. Details: \n",
      "Traceback (most recent call last):\n",
      "  File \"/Users/jordi/anaconda3/lib/python3.7/site-packages/sklearn/model_selection/_validation.py\", line 531, in _fit_and_score\n",
      "    estimator.fit(X_train, y_train, **fit_params)\n",
      "  File \"/Users/jordi/anaconda3/lib/python3.7/site-packages/sklearn/ensemble/_forest.py\", line 304, in fit\n",
      "    accept_sparse=\"csc\", dtype=DTYPE)\n",
      "  File \"/Users/jordi/anaconda3/lib/python3.7/site-packages/sklearn/base.py\", line 432, in _validate_data\n",
      "    X, y = check_X_y(X, y, **check_params)\n",
      "  File \"/Users/jordi/anaconda3/lib/python3.7/site-packages/sklearn/utils/validation.py\", line 72, in inner_f\n",
      "    return f(**kwargs)\n",
      "  File \"/Users/jordi/anaconda3/lib/python3.7/site-packages/sklearn/utils/validation.py\", line 802, in check_X_y\n",
      "    estimator=estimator)\n",
      "  File \"/Users/jordi/anaconda3/lib/python3.7/site-packages/sklearn/utils/validation.py\", line 72, in inner_f\n",
      "    return f(**kwargs)\n",
      "  File \"/Users/jordi/anaconda3/lib/python3.7/site-packages/sklearn/utils/validation.py\", line 641, in check_array\n",
      "    % (array.ndim, estimator_name))\n",
      "ValueError: Found array with dim 3. Estimator expected <= 2.\n",
      "\n",
      "  FitFailedWarning)\n",
      "/Users/jordi/anaconda3/lib/python3.7/site-packages/sklearn/model_selection/_validation.py:552: FitFailedWarning: Estimator fit failed. The score on this train-test partition for these parameters will be set to nan. Details: \n",
      "Traceback (most recent call last):\n",
      "  File \"/Users/jordi/anaconda3/lib/python3.7/site-packages/sklearn/model_selection/_validation.py\", line 531, in _fit_and_score\n",
      "    estimator.fit(X_train, y_train, **fit_params)\n",
      "  File \"/Users/jordi/anaconda3/lib/python3.7/site-packages/sklearn/ensemble/_forest.py\", line 304, in fit\n",
      "    accept_sparse=\"csc\", dtype=DTYPE)\n",
      "  File \"/Users/jordi/anaconda3/lib/python3.7/site-packages/sklearn/base.py\", line 432, in _validate_data\n",
      "    X, y = check_X_y(X, y, **check_params)\n",
      "  File \"/Users/jordi/anaconda3/lib/python3.7/site-packages/sklearn/utils/validation.py\", line 72, in inner_f\n",
      "    return f(**kwargs)\n",
      "  File \"/Users/jordi/anaconda3/lib/python3.7/site-packages/sklearn/utils/validation.py\", line 802, in check_X_y\n",
      "    estimator=estimator)\n",
      "  File \"/Users/jordi/anaconda3/lib/python3.7/site-packages/sklearn/utils/validation.py\", line 72, in inner_f\n",
      "    return f(**kwargs)\n",
      "  File \"/Users/jordi/anaconda3/lib/python3.7/site-packages/sklearn/utils/validation.py\", line 641, in check_array\n",
      "    % (array.ndim, estimator_name))\n",
      "ValueError: Found array with dim 3. Estimator expected <= 2.\n",
      "\n",
      "  FitFailedWarning)\n",
      "/Users/jordi/anaconda3/lib/python3.7/site-packages/sklearn/model_selection/_validation.py:552: FitFailedWarning: Estimator fit failed. The score on this train-test partition for these parameters will be set to nan. Details: \n",
      "Traceback (most recent call last):\n",
      "  File \"/Users/jordi/anaconda3/lib/python3.7/site-packages/sklearn/model_selection/_validation.py\", line 531, in _fit_and_score\n",
      "    estimator.fit(X_train, y_train, **fit_params)\n",
      "  File \"/Users/jordi/anaconda3/lib/python3.7/site-packages/sklearn/ensemble/_forest.py\", line 304, in fit\n",
      "    accept_sparse=\"csc\", dtype=DTYPE)\n",
      "  File \"/Users/jordi/anaconda3/lib/python3.7/site-packages/sklearn/base.py\", line 432, in _validate_data\n",
      "    X, y = check_X_y(X, y, **check_params)\n",
      "  File \"/Users/jordi/anaconda3/lib/python3.7/site-packages/sklearn/utils/validation.py\", line 72, in inner_f\n",
      "    return f(**kwargs)\n",
      "  File \"/Users/jordi/anaconda3/lib/python3.7/site-packages/sklearn/utils/validation.py\", line 802, in check_X_y\n",
      "    estimator=estimator)\n",
      "  File \"/Users/jordi/anaconda3/lib/python3.7/site-packages/sklearn/utils/validation.py\", line 72, in inner_f\n",
      "    return f(**kwargs)\n",
      "  File \"/Users/jordi/anaconda3/lib/python3.7/site-packages/sklearn/utils/validation.py\", line 641, in check_array\n",
      "    % (array.ndim, estimator_name))\n",
      "ValueError: Found array with dim 3. Estimator expected <= 2.\n",
      "\n",
      "  FitFailedWarning)\n"
     ]
    }
   ],
   "source": [
    "rfc_model = RandomForestClassifier(n_estimators=100)\n",
    "print(\"Accuracy:\", np.mean(cross_val_score(rfc_model, X, y, cv=5)))"
   ]
  },
  {
   "cell_type": "code",
   "execution_count": null,
   "metadata": {},
   "outputs": [],
   "source": []
  }
 ],
 "metadata": {
  "kernelspec": {
   "display_name": "Python 3",
   "language": "python",
   "name": "python3"
  },
  "language_info": {
   "codemirror_mode": {
    "name": "ipython",
    "version": 3
   },
   "file_extension": ".py",
   "mimetype": "text/x-python",
   "name": "python",
   "nbconvert_exporter": "python",
   "pygments_lexer": "ipython3",
   "version": "3.7.3"
  }
 },
 "nbformat": 4,
 "nbformat_minor": 4
}
