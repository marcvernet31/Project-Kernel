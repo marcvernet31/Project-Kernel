{
 "cells": [
  {
   "cell_type": "code",
   "execution_count": 4,
   "metadata": {},
   "outputs": [],
   "source": [
    "from sklearn import svm\n",
    "from sklearn.model_selection import train_test_split\n",
    "from sklearn.model_selection import cross_val_score\n",
    "# from sklearn import datasets\n",
    "\n",
    "import numpy as np"
   ]
  },
  {
   "cell_type": "code",
   "execution_count": 5,
   "metadata": {},
   "outputs": [],
   "source": [
    "from data.datasets import CannabisOneHot\n",
    "from data.datasets import CannabisDummies"
   ]
  },
  {
   "cell_type": "code",
   "execution_count": 6,
   "metadata": {},
   "outputs": [],
   "source": [
    "import kernels as kn"
   ]
  },
  {
   "cell_type": "code",
   "execution_count": 7,
   "metadata": {},
   "outputs": [],
   "source": [
    "# function to time the CV method\n",
    "import time\n",
    "def timeit(method):\n",
    "    def timed(*args, **kw):\n",
    "        ts = time.time()\n",
    "        result = method(*args, **kw)\n",
    "        te = time.time()\n",
    "\n",
    "        print('%r : %2.2f sec' %\n",
    "              (method.__name__, te - ts))\n",
    "        return result\n",
    "\n",
    "    return timed"
   ]
  },
  {
   "cell_type": "code",
   "execution_count": 24,
   "metadata": {},
   "outputs": [],
   "source": [
    "@timeit\n",
    "def k_fold_CV(model, X, y, folds):\n",
    "    acc = np.mean(cross_val_score(model, X, y, cv=folds))\n",
    "    print(\"model with accuracy:\", acc)\n",
    "    return acc\n",
    "\n",
    "def simple_k_fold_CV(model, X, y, folds):\n",
    "    acc = np.mean(cross_val_score(model, X, y, cv=folds))\n",
    "    print(\"model with accuracy:\", acc)\n",
    "    return acc"
   ]
  },
  {
   "cell_type": "code",
   "execution_count": 25,
   "metadata": {},
   "outputs": [],
   "source": [
    "one_hot = CannabisOneHot()\n",
    "Xtr, Xte, ytr, yte = one_hot.generate_small(5)"
   ]
  },
  {
   "cell_type": "code",
   "execution_count": 37,
   "metadata": {},
   "outputs": [],
   "source": [
    "def test_small(dataset, my_kernel):\n",
    "    n_folds = 5\n",
    "    Xtr, Xte, ytr, yte = dataset.generate_small(n_folds)\n",
    "    model = svm.SVC(kernel = my_kernel, C=1)\n",
    "    acc = []\n",
    "    for i in range(n_folds):\n",
    "        model = svm.SVC(kernel = my_kernel, C=1)\n",
    "        acc.append(model.fit(Xtr[i], ytr[i]).score(Xte[i], yte[i]))\n",
    "    return np.mean(acc), acc"
   ]
  },
  {
   "cell_type": "code",
   "execution_count": 36,
   "metadata": {},
   "outputs": [
    {
     "data": {
      "text/plain": [
       "(0.9471326472269869,\n",
       " [0.9169811320754717,\n",
       "  0.9547169811320755,\n",
       "  0.9660377358490566,\n",
       "  0.9471698113207547,\n",
       "  0.9507575757575758])"
      ]
     },
     "execution_count": 36,
     "metadata": {},
     "output_type": "execute_result"
    }
   ],
   "source": [
    "test_small(one_hot, \"linear\")"
   ]
  },
  {
   "cell_type": "code",
   "execution_count": 39,
   "metadata": {},
   "outputs": [
    {
     "data": {
      "text/plain": [
       "(0.966763865065752,\n",
       " [0.9773584905660377,\n",
       "  0.9660377358490566,\n",
       "  0.9584905660377359,\n",
       "  0.969811320754717,\n",
       "  0.9621212121212122])"
      ]
     },
     "execution_count": 39,
     "metadata": {},
     "output_type": "execute_result"
    }
   ],
   "source": [
    "test_small(one_hot, kn.smc)"
   ]
  },
  {
   "cell_type": "code",
   "execution_count": null,
   "metadata": {},
   "outputs": [],
   "source": []
  }
 ],
 "metadata": {
  "kernelspec": {
   "display_name": "Python 3",
   "language": "python",
   "name": "python3"
  },
  "language_info": {
   "codemirror_mode": {
    "name": "ipython",
    "version": 3
   },
   "file_extension": ".py",
   "mimetype": "text/x-python",
   "name": "python",
   "nbconvert_exporter": "python",
   "pygments_lexer": "ipython3",
   "version": "3.7.3"
  }
 },
 "nbformat": 4,
 "nbformat_minor": 4
}
