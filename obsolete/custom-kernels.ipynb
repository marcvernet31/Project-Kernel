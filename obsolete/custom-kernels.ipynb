{
 "cells": [
  {
   "cell_type": "code",
   "execution_count": 1,
   "metadata": {},
   "outputs": [],
   "source": [
    "from sklearn import svm\n",
    "from sklearn.model_selection import train_test_split\n",
    "from sklearn.model_selection import cross_val_score\n",
    "# from sklearn import datasets\n",
    "\n",
    "import numpy as np"
   ]
  },
  {
   "cell_type": "code",
   "execution_count": 2,
   "metadata": {},
   "outputs": [],
   "source": [
    "# function to time the CV method\n",
    "import time\n",
    "def timeit(method):\n",
    "    def timed(*args, **kw):\n",
    "        ts = time.time()\n",
    "        result = method(*args, **kw)\n",
    "        te = time.time()\n",
    "\n",
    "        print('%r : %2.2f sec' %\n",
    "              (method.__name__, te - ts))\n",
    "        return result\n",
    "\n",
    "    return timed"
   ]
  },
  {
   "cell_type": "code",
   "execution_count": 3,
   "metadata": {},
   "outputs": [],
   "source": [
    "@timeit\n",
    "def k_fold_CV(model, X, y, folds):\n",
    "    acc = np.mean(cross_val_score(model, X, y, cv=folds))\n",
    "    print(\"model with accuracy:\", acc)\n",
    "    return acc"
   ]
  },
  {
   "cell_type": "markdown",
   "metadata": {},
   "source": [
    "## Load the data\n",
    "\n",
    "We load two different datasets. Both are in one-hot encoding form but were generated through different methods. We just want to see what works better before "
   ]
  },
  {
   "cell_type": "code",
   "execution_count": 4,
   "metadata": {},
   "outputs": [],
   "source": [
    "from data.datasets import CannabisOneHot\n",
    "from data.datasets import CannabisDummies"
   ]
  },
  {
   "cell_type": "code",
   "execution_count": 6,
   "metadata": {},
   "outputs": [],
   "source": [
    "one_hot = CannabisOneHot()\n",
    "Xoh, yoh = one_hot.generate()\n",
    "dummies = CannabisDummies()\n",
    "Xd, yd = dummies.generate()"
   ]
  },
  {
   "cell_type": "code",
   "execution_count": 7,
   "metadata": {},
   "outputs": [],
   "source": [
    "# create a baseline model\n",
    "linear_svm = svm.SVC(kernel = \"linear\", C = 1)\n",
    "radial_svm = svm.SVC(kernel = \"rbf\", C = 1)"
   ]
  },
  {
   "cell_type": "markdown",
   "metadata": {},
   "source": [
    "#### Now, compare"
   ]
  },
  {
   "cell_type": "code",
   "execution_count": 9,
   "metadata": {},
   "outputs": [
    {
     "name": "stdout",
     "output_type": "stream",
     "text": [
      "One Hot data:\n",
      "model with accuracy: 0.9146388699020276\n",
      "'k_fold_CV' : 1.41 sec\n",
      "model with accuracy: 0.9517372977899292\n",
      "'k_fold_CV' : 2.24 sec\n",
      "Dummy data:\n",
      "model with accuracy: 0.9147243107769423\n",
      "'k_fold_CV' : 0.89 sec\n",
      "model with accuracy: 0.9313966735019367\n",
      "'k_fold_CV' : 1.66 sec\n"
     ]
    },
    {
     "data": {
      "text/plain": [
       "0.9313966735019367"
      ]
     },
     "execution_count": 9,
     "metadata": {},
     "output_type": "execute_result"
    }
   ],
   "source": [
    "k = 10\n",
    "print(\"One Hot data:\")\n",
    "k_fold_CV(linear_svm, Xoh, yoh, k)\n",
    "k_fold_CV(radial_svm, Xoh, yoh, k)\n",
    "\n",
    "print(\"Dummy data:\")\n",
    "k_fold_CV(linear_svm, Xd, yd, k)\n",
    "k_fold_CV(radial_svm, Xd, yd, k)"
   ]
  },
  {
   "cell_type": "markdown",
   "metadata": {},
   "source": [
    "## Custom kernels\n",
    "\n",
    "Next we have some kernel functions to train the svm. These are speccially designed to deal with categorical data."
   ]
  },
  {
   "cell_type": "code",
   "execution_count": 77,
   "metadata": {},
   "outputs": [],
   "source": [
    "def overlap(X, Y):\n",
    "    xm, xn = X.shape\n",
    "    ym, yn = Y.shape\n",
    "    # Compute the kernel matrix:\n",
    "    G = np.zeros((xm, ym))\n",
    "    for i in range(xm):\n",
    "        Xi = np.tile(X[i], (ym, 1))\n",
    "        Xi = Xi == Y\n",
    "        G[i, :] = np.sum(Xi, axis=1)\n",
    "    return G\n",
    "\n",
    "def k0(X, Y): # what is this?\n",
    "    xm, xn = X.shape\n",
    "    ym, yn = Y.shape\n",
    "    # Compute the kernel matrix:\n",
    "    G = np.zeros((xm, ym))\n",
    "    for i in range(xm):\n",
    "        Xi = np.tile(X[i], (ym, 1))\n",
    "        Xi = Xi == Y # prevf\n",
    "        G[i, :] = np.mean(Xi, axis=1)\n",
    "    return G # postf f(G)\n",
    "\n",
    "from sklearn.metrics import jaccard_score\n",
    "\n",
    "def jaccard(X, Y):\n",
    "    xm, xn = X.shape\n",
    "    ym, yn = Y.shape\n",
    "    # Compute the kernel matrix:\n",
    "    G = np.zeros((xm, ym))\n",
    "    for i in range(xm):\n",
    "        Xi = np.tile(X[i], (ym, 1))\n",
    "        Xi = Xi == Y\n",
    "        eq = np.sum(Xi, axis = 1)\n",
    "        G[i, :] = eq / (2*xn-eq)\n",
    "    return G # postf f(G)\n",
    "\n",
    "def jaccard2(X, Y):\n",
    "    xm, xn = X.shape\n",
    "    ym, yn = Y.shape\n",
    "    # Compute the kernel matrix:\n",
    "    G = np.zeros((xm, ym))\n",
    "    ytraits = np.sum(Y, axis=1)\n",
    "    for i in range(xm):\n",
    "        Xi = np.tile(X[i], (ym, 1))\n",
    "        xtraits = np.sum(Xi, axis = 1)\n",
    "        Xi = Xi == Y\n",
    "        eq = np.sum(Xi, axis = 1)\n",
    "        G[i, :] = eq / (xtraits+ytraits-eq)\n",
    "    return G\n",
    "\n",
    "def k0prime(X, Y):\n",
    "    xm, xn = X.shape\n",
    "    ym, yn = Y.shape\n",
    "    G = np.zeros((xm, ym))\n",
    "    for i in range(xm):\n",
    "        Xi = np.tile(X[i], (ym, 1))\n",
    "        Xi = Xi == Y\n",
    "        G[i, :] = np.mean(Xi, axis=1)\n",
    "    gamma = 1\n",
    "    return np.exp(gamma * G)"
   ]
  },
  {
   "cell_type": "code",
   "execution_count": 88,
   "metadata": {},
   "outputs": [],
   "source": [
    "def smc(X, Y):\n",
    "    xm, xn = X.shape\n",
    "    ym, yn = Y.shape\n",
    "    # Compute the kernel matrix:\n",
    "    G = np.zeros((xm, ym))\n",
    "    for i in range(xm):\n",
    "        Xi = np.tile(X[i], (ym, 1))\n",
    "        Xi = Xi == Y\n",
    "        G[i, :] = np.sum(Xi, axis=1) / xn\n",
    "    return G"
   ]
  },
  {
   "cell_type": "code",
   "execution_count": 84,
   "metadata": {},
   "outputs": [],
   "source": [
    "X_tr, X_te, y_tr, y_te = dummies.train_test_split()"
   ]
  },
  {
   "cell_type": "code",
   "execution_count": 85,
   "metadata": {},
   "outputs": [
    {
     "name": "stdout",
     "output_type": "stream",
     "text": [
      "361 361\n",
      "361 361\n"
     ]
    },
    {
     "data": {
      "text/plain": [
       "0.964824120603015"
      ]
     },
     "execution_count": 85,
     "metadata": {},
     "output_type": "execute_result"
    }
   ],
   "source": [
    "jac = svm.SVC(kernel = smc, C = 1).fit(X_tr, y_tr)\n",
    "jac.score(X_te, y_te)"
   ]
  },
  {
   "cell_type": "code",
   "execution_count": 81,
   "metadata": {},
   "outputs": [
    {
     "name": "stdout",
     "output_type": "stream",
     "text": [
      "One Hot data:\n",
      "model with accuracy: 0.9365637507146941\n",
      "'k_fold_CV' : 8.70 sec\n",
      "model with accuracy: 0.9373156089193826\n",
      "'k_fold_CV' : 7.97 sec\n",
      "model with accuracy: 0.9267524299599771\n",
      "'k_fold_CV' : 6.02 sec\n",
      "model with accuracy: 0.907887364208119\n",
      "'k_fold_CV' : 7.40 sec\n",
      "Dummy data:\n",
      "model with accuracy: 0.9313036020583191\n",
      "'k_fold_CV' : 7.97 sec\n",
      "model with accuracy: 0.9305488850771869\n",
      "'k_fold_CV' : 7.90 sec\n",
      "model with accuracy: 0.9335677530017152\n",
      "'k_fold_CV' : 6.40 sec\n",
      "model with accuracy: 0.921483704974271\n",
      "'k_fold_CV' : 7.42 sec\n"
     ]
    },
    {
     "data": {
      "text/plain": [
       "0.921483704974271"
      ]
     },
     "execution_count": 81,
     "metadata": {},
     "output_type": "execute_result"
    }
   ],
   "source": [
    "k0prime_svm = svm.SVC(kernel = k0prime, C = 1)\n",
    "k0_svm = svm.SVC(kernel = k0, C = 1)\n",
    "jaccard1_svm = svm.SVC(kernel = jaccard, C = 1)\n",
    "jaccard2_svm = svm.SVC(kernel = jaccard2, C = 1)\n",
    "\n",
    "k = 5\n",
    "print(\"One Hot data:\")\n",
    "k_fold_CV(k0prime_svm, Xoh, yoh, k)\n",
    "k_fold_CV(k0_svm, Xoh, yoh, k)\n",
    "k_fold_CV(jaccard1_svm, Xoh, yoh, k)\n",
    "k_fold_CV(jaccard2_svm, Xoh, yoh, k)\n",
    "\n",
    "\n",
    "print(\"Dummy data:\")\n",
    "k_fold_CV(k0prime_svm, Xd, yd, k)\n",
    "k_fold_CV(k0_svm, Xd, yd, k)\n",
    "k_fold_CV(jaccard1_svm, Xd, yd, k)\n",
    "k_fold_CV(jaccard2_svm, Xd, yd, k)"
   ]
  },
  {
   "cell_type": "code",
   "execution_count": 87,
   "metadata": {},
   "outputs": [],
   "source": [
    "def jaccard(X, Y):\n",
    "    xm, xn = X.shape\n",
    "    ym, yn = Y.shape\n",
    "    # Compute the kernel matrix:\n",
    "    G = np.zeros((xm, ym))\n",
    "    for i in range(xm):\n",
    "        Xi = np.tile(X[i], (ym, 1))\n",
    "        Xi = jaccard_score(Xi.T, Y.T, average = None)\n",
    "        G[i, :] = Xi\n",
    "    return G"
   ]
  },
  {
   "cell_type": "code",
   "execution_count": 76,
   "metadata": {},
   "outputs": [
    {
     "name": "stdout",
     "output_type": "stream",
     "text": [
      "926 516 926 516\n"
     ]
    },
    {
     "data": {
      "text/plain": [
       "array([[1.        , 0.73737374, 0.68627451, ..., 0.73737374, 0.73737374,\n",
       "        0.75510204],\n",
       "       [0.73737374, 1.        , 0.75510204, ..., 0.71144279, 0.72      ,\n",
       "        0.74619289],\n",
       "       [0.68627451, 0.75510204, 1.        , ..., 0.73737374, 0.75510204,\n",
       "        0.72864322],\n",
       "       ...,\n",
       "       [0.73737374, 0.71144279, 0.73737374, ..., 1.        , 0.72864322,\n",
       "        0.71144279],\n",
       "       [0.73737374, 0.72      , 0.75510204, ..., 0.72864322, 1.        ,\n",
       "        0.7029703 ],\n",
       "       [0.75510204, 0.74619289, 0.72864322, ..., 0.71144279, 0.7029703 ,\n",
       "        1.        ]])"
      ]
     },
     "execution_count": 76,
     "metadata": {},
     "output_type": "execute_result"
    }
   ],
   "source": [
    "jaccard(X_train, X_train)"
   ]
  },
  {
   "cell_type": "code",
   "execution_count": 89,
   "metadata": {},
   "outputs": [
    {
     "name": "stdout",
     "output_type": "stream",
     "text": [
      "model with accuracy: 0.9373156089193826\n",
      "'k_fold_CV' : 9.35 sec\n"
     ]
    },
    {
     "data": {
      "text/plain": [
       "0.9373156089193826"
      ]
     },
     "execution_count": 89,
     "metadata": {},
     "output_type": "execute_result"
    }
   ],
   "source": [
    "smc_svm = svm.SVC(kernel = smc, C=1)\n",
    "k_fold_CV(smc_svm, Xoh, yoh, k)"
   ]
  },
  {
   "cell_type": "code",
   "execution_count": null,
   "metadata": {},
   "outputs": [],
   "source": []
  }
 ],
 "metadata": {
  "kernelspec": {
   "display_name": "Python 3",
   "language": "python",
   "name": "python3"
  },
  "language_info": {
   "codemirror_mode": {
    "name": "ipython",
    "version": 3
   },
   "file_extension": ".py",
   "mimetype": "text/x-python",
   "name": "python",
   "nbconvert_exporter": "python",
   "pygments_lexer": "ipython3",
   "version": "3.7.3"
  }
 },
 "nbformat": 4,
 "nbformat_minor": 4
}
